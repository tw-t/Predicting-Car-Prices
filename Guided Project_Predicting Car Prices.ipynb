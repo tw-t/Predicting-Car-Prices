{
 "cells": [
  {
   "cell_type": "markdown",
   "metadata": {
    "collapsed": true
   },
   "source": [
    "## Introduction\n",
    "\n",
    "We will be applying machine learning techniques to predict a car's market price using its attributes.\n",
    "\n",
    "The data set is from the UCI Machine Learning Repository, full documentation and download could be found [here](https://archive.ics.uci.edu/ml/datasets/automobile)."
   ]
  },
  {
   "cell_type": "code",
   "execution_count": 1,
   "metadata": {
    "collapsed": false
   },
   "outputs": [],
   "source": [
    "# import and read file\n",
    "import pandas as pd\n",
    "\n",
    "with open('imports-85.data') as f:\n",
    "    cars = pd.read_csv(f)"
   ]
  },
  {
   "cell_type": "code",
   "execution_count": 2,
   "metadata": {
    "collapsed": false
   },
   "outputs": [
    {
     "data": {
      "text/html": [
       "<div>\n",
       "<style scoped>\n",
       "    .dataframe tbody tr th:only-of-type {\n",
       "        vertical-align: middle;\n",
       "    }\n",
       "\n",
       "    .dataframe tbody tr th {\n",
       "        vertical-align: top;\n",
       "    }\n",
       "\n",
       "    .dataframe thead th {\n",
       "        text-align: right;\n",
       "    }\n",
       "</style>\n",
       "<table border=\"1\" class=\"dataframe\">\n",
       "  <thead>\n",
       "    <tr style=\"text-align: right;\">\n",
       "      <th></th>\n",
       "      <th>3</th>\n",
       "      <th>?</th>\n",
       "      <th>alfa-romero</th>\n",
       "      <th>gas</th>\n",
       "      <th>std</th>\n",
       "      <th>two</th>\n",
       "      <th>convertible</th>\n",
       "      <th>rwd</th>\n",
       "      <th>front</th>\n",
       "      <th>88.60</th>\n",
       "      <th>...</th>\n",
       "      <th>130</th>\n",
       "      <th>mpfi</th>\n",
       "      <th>3.47</th>\n",
       "      <th>2.68</th>\n",
       "      <th>9.00</th>\n",
       "      <th>111</th>\n",
       "      <th>5000</th>\n",
       "      <th>21</th>\n",
       "      <th>27</th>\n",
       "      <th>13495</th>\n",
       "    </tr>\n",
       "  </thead>\n",
       "  <tbody>\n",
       "    <tr>\n",
       "      <th>0</th>\n",
       "      <td>3</td>\n",
       "      <td>?</td>\n",
       "      <td>alfa-romero</td>\n",
       "      <td>gas</td>\n",
       "      <td>std</td>\n",
       "      <td>two</td>\n",
       "      <td>convertible</td>\n",
       "      <td>rwd</td>\n",
       "      <td>front</td>\n",
       "      <td>88.6</td>\n",
       "      <td>...</td>\n",
       "      <td>130</td>\n",
       "      <td>mpfi</td>\n",
       "      <td>3.47</td>\n",
       "      <td>2.68</td>\n",
       "      <td>9.0</td>\n",
       "      <td>111</td>\n",
       "      <td>5000</td>\n",
       "      <td>21</td>\n",
       "      <td>27</td>\n",
       "      <td>16500</td>\n",
       "    </tr>\n",
       "    <tr>\n",
       "      <th>1</th>\n",
       "      <td>1</td>\n",
       "      <td>?</td>\n",
       "      <td>alfa-romero</td>\n",
       "      <td>gas</td>\n",
       "      <td>std</td>\n",
       "      <td>two</td>\n",
       "      <td>hatchback</td>\n",
       "      <td>rwd</td>\n",
       "      <td>front</td>\n",
       "      <td>94.5</td>\n",
       "      <td>...</td>\n",
       "      <td>152</td>\n",
       "      <td>mpfi</td>\n",
       "      <td>2.68</td>\n",
       "      <td>3.47</td>\n",
       "      <td>9.0</td>\n",
       "      <td>154</td>\n",
       "      <td>5000</td>\n",
       "      <td>19</td>\n",
       "      <td>26</td>\n",
       "      <td>16500</td>\n",
       "    </tr>\n",
       "    <tr>\n",
       "      <th>2</th>\n",
       "      <td>2</td>\n",
       "      <td>164</td>\n",
       "      <td>audi</td>\n",
       "      <td>gas</td>\n",
       "      <td>std</td>\n",
       "      <td>four</td>\n",
       "      <td>sedan</td>\n",
       "      <td>fwd</td>\n",
       "      <td>front</td>\n",
       "      <td>99.8</td>\n",
       "      <td>...</td>\n",
       "      <td>109</td>\n",
       "      <td>mpfi</td>\n",
       "      <td>3.19</td>\n",
       "      <td>3.40</td>\n",
       "      <td>10.0</td>\n",
       "      <td>102</td>\n",
       "      <td>5500</td>\n",
       "      <td>24</td>\n",
       "      <td>30</td>\n",
       "      <td>13950</td>\n",
       "    </tr>\n",
       "    <tr>\n",
       "      <th>3</th>\n",
       "      <td>2</td>\n",
       "      <td>164</td>\n",
       "      <td>audi</td>\n",
       "      <td>gas</td>\n",
       "      <td>std</td>\n",
       "      <td>four</td>\n",
       "      <td>sedan</td>\n",
       "      <td>4wd</td>\n",
       "      <td>front</td>\n",
       "      <td>99.4</td>\n",
       "      <td>...</td>\n",
       "      <td>136</td>\n",
       "      <td>mpfi</td>\n",
       "      <td>3.19</td>\n",
       "      <td>3.40</td>\n",
       "      <td>8.0</td>\n",
       "      <td>115</td>\n",
       "      <td>5500</td>\n",
       "      <td>18</td>\n",
       "      <td>22</td>\n",
       "      <td>17450</td>\n",
       "    </tr>\n",
       "    <tr>\n",
       "      <th>4</th>\n",
       "      <td>2</td>\n",
       "      <td>?</td>\n",
       "      <td>audi</td>\n",
       "      <td>gas</td>\n",
       "      <td>std</td>\n",
       "      <td>two</td>\n",
       "      <td>sedan</td>\n",
       "      <td>fwd</td>\n",
       "      <td>front</td>\n",
       "      <td>99.8</td>\n",
       "      <td>...</td>\n",
       "      <td>136</td>\n",
       "      <td>mpfi</td>\n",
       "      <td>3.19</td>\n",
       "      <td>3.40</td>\n",
       "      <td>8.5</td>\n",
       "      <td>110</td>\n",
       "      <td>5500</td>\n",
       "      <td>19</td>\n",
       "      <td>25</td>\n",
       "      <td>15250</td>\n",
       "    </tr>\n",
       "  </tbody>\n",
       "</table>\n",
       "<p>5 rows × 26 columns</p>\n",
       "</div>"
      ],
      "text/plain": [
       "   3    ?  alfa-romero  gas  std   two  convertible  rwd  front  88.60  ...    \\\n",
       "0  3    ?  alfa-romero  gas  std   two  convertible  rwd  front   88.6  ...     \n",
       "1  1    ?  alfa-romero  gas  std   two    hatchback  rwd  front   94.5  ...     \n",
       "2  2  164         audi  gas  std  four        sedan  fwd  front   99.8  ...     \n",
       "3  2  164         audi  gas  std  four        sedan  4wd  front   99.4  ...     \n",
       "4  2    ?         audi  gas  std   two        sedan  fwd  front   99.8  ...     \n",
       "\n",
       "   130  mpfi  3.47  2.68  9.00  111  5000  21  27  13495  \n",
       "0  130  mpfi  3.47  2.68   9.0  111  5000  21  27  16500  \n",
       "1  152  mpfi  2.68  3.47   9.0  154  5000  19  26  16500  \n",
       "2  109  mpfi  3.19  3.40  10.0  102  5500  24  30  13950  \n",
       "3  136  mpfi  3.19  3.40   8.0  115  5500  18  22  17450  \n",
       "4  136  mpfi  3.19  3.40   8.5  110  5500  19  25  15250  \n",
       "\n",
       "[5 rows x 26 columns]"
      ]
     },
     "execution_count": 2,
     "metadata": {},
     "output_type": "execute_result"
    }
   ],
   "source": [
    "# exploring data\n",
    "cars.head()"
   ]
  },
  {
   "cell_type": "markdown",
   "metadata": {},
   "source": [
    "The column labels are missing from the data set and the first row of data has been read as the label currently. We should add the labels back.\n",
    "\n",
    "We also find that null values are entered as '?' in this data set, this is not within the default setting, so should be specified when reading in the data set as well."
   ]
  },
  {
   "cell_type": "code",
   "execution_count": 3,
   "metadata": {
    "collapsed": false
   },
   "outputs": [],
   "source": [
    "# reading the file again and adding column labels\n",
    "col_lab = ['symboling',\n",
    "           'normalized_losses',\n",
    "           'make',\n",
    "           'fuel_type',\n",
    "           'aspiration',\n",
    "           'num_of_doors',\n",
    "           'body_style',\n",
    "           'drive_wheels',\n",
    "           'engine_location',\n",
    "           'wheel_base',\n",
    "           'length',\n",
    "           'width',\n",
    "           'height',\n",
    "           'curb_weight',\n",
    "           'engine_type',\n",
    "           'num_of_cynlinders',\n",
    "           'engine_size',\n",
    "           'fuel_system',\n",
    "           'bore',\n",
    "           'stroke',\n",
    "           'compression_ratio',\n",
    "           'horsepower',\n",
    "           'peak_rpm',\n",
    "           'city_mpg',\n",
    "           'highway_mpg',\n",
    "           'price'\n",
    "          ]\n",
    "with open('imports-85.data') as f:\n",
    "    cars = pd.read_csv(f, header=None, names=col_lab, na_values='?')"
   ]
  },
  {
   "cell_type": "code",
   "execution_count": 4,
   "metadata": {
    "collapsed": false,
    "scrolled": true
   },
   "outputs": [
    {
     "name": "stdout",
     "output_type": "stream",
     "text": [
      "<class 'pandas.core.frame.DataFrame'>\n",
      "RangeIndex: 205 entries, 0 to 204\n",
      "Data columns (total 26 columns):\n",
      "symboling            205 non-null int64\n",
      "normalized_losses    164 non-null float64\n",
      "make                 205 non-null object\n",
      "fuel_type            205 non-null object\n",
      "aspiration           205 non-null object\n",
      "num_of_doors         203 non-null object\n",
      "body_style           205 non-null object\n",
      "drive_wheels         205 non-null object\n",
      "engine_location      205 non-null object\n",
      "wheel_base           205 non-null float64\n",
      "length               205 non-null float64\n",
      "width                205 non-null float64\n",
      "height               205 non-null float64\n",
      "curb_weight          205 non-null int64\n",
      "engine_type          205 non-null object\n",
      "num_of_cynlinders    205 non-null object\n",
      "engine_size          205 non-null int64\n",
      "fuel_system          205 non-null object\n",
      "bore                 201 non-null float64\n",
      "stroke               201 non-null float64\n",
      "compression_ratio    205 non-null float64\n",
      "horsepower           203 non-null float64\n",
      "peak_rpm             203 non-null float64\n",
      "city_mpg             205 non-null int64\n",
      "highway_mpg          205 non-null int64\n",
      "price                201 non-null float64\n",
      "dtypes: float64(11), int64(5), object(10)\n",
      "memory usage: 41.7+ KB\n"
     ]
    }
   ],
   "source": [
    "# exploring column dtype\n",
    "cars.info()"
   ]
  },
  {
   "cell_type": "code",
   "execution_count": 5,
   "metadata": {
    "collapsed": false
   },
   "outputs": [
    {
     "data": {
      "text/plain": [
       "float64    11\n",
       "int64       5\n",
       "object     10\n",
       "dtype: int64"
      ]
     },
     "execution_count": 5,
     "metadata": {},
     "output_type": "execute_result"
    }
   ],
   "source": [
    "# counting unique dtypes of data set\n",
    "cars.get_dtype_counts()"
   ]
  },
  {
   "cell_type": "markdown",
   "metadata": {},
   "source": [
    "Since we are trying to predict car's price, hence the target column should be 'price'.\n",
    "\n",
    "Out of the 25 remaining columns, there are 15 that are currently of numeric dtypes that could be used as features for our model. However, we could increase the number by transforming columns such as 'num_of_doors', 'num_of_cylinders' to numeric dtypes, and also create dummies for categorical columns such as 'body_style', 'drive_wheels', 'fuel_system'... ect."
   ]
  },
  {
   "cell_type": "code",
   "execution_count": 6,
   "metadata": {
    "collapsed": false,
    "scrolled": true
   },
   "outputs": [
    {
     "data": {
      "text/html": [
       "<div>\n",
       "<style scoped>\n",
       "    .dataframe tbody tr th:only-of-type {\n",
       "        vertical-align: middle;\n",
       "    }\n",
       "\n",
       "    .dataframe tbody tr th {\n",
       "        vertical-align: top;\n",
       "    }\n",
       "\n",
       "    .dataframe thead th {\n",
       "        text-align: right;\n",
       "    }\n",
       "</style>\n",
       "<table border=\"1\" class=\"dataframe\">\n",
       "  <thead>\n",
       "    <tr style=\"text-align: right;\">\n",
       "      <th></th>\n",
       "      <th>symboling</th>\n",
       "      <th>normalized_losses</th>\n",
       "      <th>make</th>\n",
       "      <th>fuel_type</th>\n",
       "      <th>aspiration</th>\n",
       "      <th>num_of_doors</th>\n",
       "      <th>body_style</th>\n",
       "      <th>drive_wheels</th>\n",
       "      <th>engine_location</th>\n",
       "      <th>wheel_base</th>\n",
       "      <th>...</th>\n",
       "      <th>engine_size</th>\n",
       "      <th>fuel_system</th>\n",
       "      <th>bore</th>\n",
       "      <th>stroke</th>\n",
       "      <th>compression_ratio</th>\n",
       "      <th>horsepower</th>\n",
       "      <th>peak_rpm</th>\n",
       "      <th>city_mpg</th>\n",
       "      <th>highway_mpg</th>\n",
       "      <th>price</th>\n",
       "    </tr>\n",
       "  </thead>\n",
       "  <tbody>\n",
       "    <tr>\n",
       "      <th>0</th>\n",
       "      <td>3</td>\n",
       "      <td>NaN</td>\n",
       "      <td>alfa-romero</td>\n",
       "      <td>gas</td>\n",
       "      <td>std</td>\n",
       "      <td>two</td>\n",
       "      <td>convertible</td>\n",
       "      <td>rwd</td>\n",
       "      <td>front</td>\n",
       "      <td>88.6</td>\n",
       "      <td>...</td>\n",
       "      <td>130</td>\n",
       "      <td>mpfi</td>\n",
       "      <td>3.47</td>\n",
       "      <td>2.68</td>\n",
       "      <td>9.0</td>\n",
       "      <td>111.0</td>\n",
       "      <td>5000.0</td>\n",
       "      <td>21</td>\n",
       "      <td>27</td>\n",
       "      <td>13495.0</td>\n",
       "    </tr>\n",
       "    <tr>\n",
       "      <th>1</th>\n",
       "      <td>3</td>\n",
       "      <td>NaN</td>\n",
       "      <td>alfa-romero</td>\n",
       "      <td>gas</td>\n",
       "      <td>std</td>\n",
       "      <td>two</td>\n",
       "      <td>convertible</td>\n",
       "      <td>rwd</td>\n",
       "      <td>front</td>\n",
       "      <td>88.6</td>\n",
       "      <td>...</td>\n",
       "      <td>130</td>\n",
       "      <td>mpfi</td>\n",
       "      <td>3.47</td>\n",
       "      <td>2.68</td>\n",
       "      <td>9.0</td>\n",
       "      <td>111.0</td>\n",
       "      <td>5000.0</td>\n",
       "      <td>21</td>\n",
       "      <td>27</td>\n",
       "      <td>16500.0</td>\n",
       "    </tr>\n",
       "    <tr>\n",
       "      <th>2</th>\n",
       "      <td>1</td>\n",
       "      <td>NaN</td>\n",
       "      <td>alfa-romero</td>\n",
       "      <td>gas</td>\n",
       "      <td>std</td>\n",
       "      <td>two</td>\n",
       "      <td>hatchback</td>\n",
       "      <td>rwd</td>\n",
       "      <td>front</td>\n",
       "      <td>94.5</td>\n",
       "      <td>...</td>\n",
       "      <td>152</td>\n",
       "      <td>mpfi</td>\n",
       "      <td>2.68</td>\n",
       "      <td>3.47</td>\n",
       "      <td>9.0</td>\n",
       "      <td>154.0</td>\n",
       "      <td>5000.0</td>\n",
       "      <td>19</td>\n",
       "      <td>26</td>\n",
       "      <td>16500.0</td>\n",
       "    </tr>\n",
       "    <tr>\n",
       "      <th>3</th>\n",
       "      <td>2</td>\n",
       "      <td>164.0</td>\n",
       "      <td>audi</td>\n",
       "      <td>gas</td>\n",
       "      <td>std</td>\n",
       "      <td>four</td>\n",
       "      <td>sedan</td>\n",
       "      <td>fwd</td>\n",
       "      <td>front</td>\n",
       "      <td>99.8</td>\n",
       "      <td>...</td>\n",
       "      <td>109</td>\n",
       "      <td>mpfi</td>\n",
       "      <td>3.19</td>\n",
       "      <td>3.40</td>\n",
       "      <td>10.0</td>\n",
       "      <td>102.0</td>\n",
       "      <td>5500.0</td>\n",
       "      <td>24</td>\n",
       "      <td>30</td>\n",
       "      <td>13950.0</td>\n",
       "    </tr>\n",
       "    <tr>\n",
       "      <th>4</th>\n",
       "      <td>2</td>\n",
       "      <td>164.0</td>\n",
       "      <td>audi</td>\n",
       "      <td>gas</td>\n",
       "      <td>std</td>\n",
       "      <td>four</td>\n",
       "      <td>sedan</td>\n",
       "      <td>4wd</td>\n",
       "      <td>front</td>\n",
       "      <td>99.4</td>\n",
       "      <td>...</td>\n",
       "      <td>136</td>\n",
       "      <td>mpfi</td>\n",
       "      <td>3.19</td>\n",
       "      <td>3.40</td>\n",
       "      <td>8.0</td>\n",
       "      <td>115.0</td>\n",
       "      <td>5500.0</td>\n",
       "      <td>18</td>\n",
       "      <td>22</td>\n",
       "      <td>17450.0</td>\n",
       "    </tr>\n",
       "  </tbody>\n",
       "</table>\n",
       "<p>5 rows × 26 columns</p>\n",
       "</div>"
      ],
      "text/plain": [
       "   symboling  normalized_losses         make fuel_type aspiration  \\\n",
       "0          3                NaN  alfa-romero       gas        std   \n",
       "1          3                NaN  alfa-romero       gas        std   \n",
       "2          1                NaN  alfa-romero       gas        std   \n",
       "3          2              164.0         audi       gas        std   \n",
       "4          2              164.0         audi       gas        std   \n",
       "\n",
       "  num_of_doors   body_style drive_wheels engine_location  wheel_base   ...     \\\n",
       "0          two  convertible          rwd           front        88.6   ...      \n",
       "1          two  convertible          rwd           front        88.6   ...      \n",
       "2          two    hatchback          rwd           front        94.5   ...      \n",
       "3         four        sedan          fwd           front        99.8   ...      \n",
       "4         four        sedan          4wd           front        99.4   ...      \n",
       "\n",
       "   engine_size  fuel_system  bore  stroke compression_ratio horsepower  \\\n",
       "0          130         mpfi  3.47    2.68               9.0      111.0   \n",
       "1          130         mpfi  3.47    2.68               9.0      111.0   \n",
       "2          152         mpfi  2.68    3.47               9.0      154.0   \n",
       "3          109         mpfi  3.19    3.40              10.0      102.0   \n",
       "4          136         mpfi  3.19    3.40               8.0      115.0   \n",
       "\n",
       "   peak_rpm city_mpg  highway_mpg    price  \n",
       "0    5000.0       21           27  13495.0  \n",
       "1    5000.0       21           27  16500.0  \n",
       "2    5000.0       19           26  16500.0  \n",
       "3    5500.0       24           30  13950.0  \n",
       "4    5500.0       18           22  17450.0  \n",
       "\n",
       "[5 rows x 26 columns]"
      ]
     },
     "execution_count": 6,
     "metadata": {},
     "output_type": "execute_result"
    }
   ],
   "source": [
    "# display the first few rows\n",
    "cars.head()"
   ]
  },
  {
   "cell_type": "markdown",
   "metadata": {},
   "source": [
    "## Data Cleaning\n",
    "\n",
    "As predictive modelling generally does not accept non-numeric data and missing values, hence we will need to clean the data first.\n",
    "\n",
    "For the purpose of this project, we will only use the columns specified as continuous values. As mentioned before, we found that non-numeric columns in this data set are categorical, thus, we could create dummy variables for these columns to enhance the robustness of our model. However, we will only be using the numeric ones for our initial models. Inclusion of dummy variables will be kept as a possible step for model improvement."
   ]
  },
  {
   "cell_type": "code",
   "execution_count": 7,
   "metadata": {
    "collapsed": false
   },
   "outputs": [],
   "source": [
    "# Select only the columns with continuous values from - https://archive.ics.uci.edu/ml/machine-learning-databases/autos/imports-85.names\n",
    "continuous_values_cols = ['normalized_losses', 'wheel_base', 'length', 'width', 'height', 'curb_weight', 'bore', 'stroke', 'compression_ratio', 'horsepower', 'peak_rpm', 'city_mpg', 'highway_mpg', 'price']\n",
    "cars_num = cars[continuous_values_cols]"
   ]
  },
  {
   "cell_type": "code",
   "execution_count": 8,
   "metadata": {
    "collapsed": false
   },
   "outputs": [
    {
     "data": {
      "text/plain": [
       "normalized_losses    41\n",
       "wheel_base            0\n",
       "length                0\n",
       "width                 0\n",
       "height                0\n",
       "curb_weight           0\n",
       "bore                  4\n",
       "stroke                4\n",
       "compression_ratio     0\n",
       "horsepower            2\n",
       "peak_rpm              2\n",
       "city_mpg              0\n",
       "highway_mpg           0\n",
       "price                 4\n",
       "dtype: int64"
      ]
     },
     "execution_count": 8,
     "metadata": {},
     "output_type": "execute_result"
    }
   ],
   "source": [
    "# finding number of missing values for selected columns\n",
    "cars_num.isna().sum()"
   ]
  },
  {
   "cell_type": "markdown",
   "metadata": {},
   "source": [
    "From the initial data exploration, we find the column 'normalized_losses' missing 20% of its values (164 out of 205 values). When reading the definition we learn that this column \"records the relative average loss payment per insured vehicle year.\" (quoted from [data set information](https://archive.ics.uci.edu/ml/datasets/automobile)) As insurance losses data affects the second hand car market more and that there are too many missing values in this column, we will drop the column entirely.\n",
    "\n",
    "We see that other columns are missing 4 values at most, hence we will fill in the numeric columns with the column means.\n",
    "\n",
    "Though we find that our target column 'price' is also missing 4 values. As it is the target column, we will be more cautious when handelling missing values here as any inaccuracy will lead to poor predicative results. Seeing that there are only 4 missing price values, we will drop theses rows entirely.\n",
    "\n",
    "After dropping non-numeric columns, we will normalise the remaining columns because gradient based predicative modelling techniques find it harder to reach convergence with unscaled data. We will keep the normalised range between 0 and 1.\n",
    "\n",
    "We will not normalise the price column as it is our target column."
   ]
  },
  {
   "cell_type": "code",
   "execution_count": 9,
   "metadata": {
    "collapsed": false
   },
   "outputs": [],
   "source": [
    "# dropping 'normalized_losses'\n",
    "cars_num = cars_num.drop(columns='normalized_losses')"
   ]
  },
  {
   "cell_type": "code",
   "execution_count": 10,
   "metadata": {
    "collapsed": false
   },
   "outputs": [],
   "source": [
    "# dropping rows with missing prices\n",
    "cars_num = cars_num[cars_num['price'].notna()]"
   ]
  },
  {
   "cell_type": "code",
   "execution_count": 11,
   "metadata": {
    "collapsed": true
   },
   "outputs": [],
   "source": [
    "# fill missing values for numeric dtype\n",
    "for col in cars_num.columns:\n",
    "    if cars_num[col].isna().sum() > 0:\n",
    "        if (cars_num[col].dtype != 'object'):\n",
    "            cars_num[col].fillna(value=cars_num[col].mean(), inplace=True)"
   ]
  },
  {
   "cell_type": "code",
   "execution_count": 12,
   "metadata": {
    "collapsed": false
   },
   "outputs": [],
   "source": [
    "# normalising remaining features columns (but not the target)\n",
    "price_col = cars_num['price']\n",
    "cars_num = (cars_num - cars_num.min())/(cars_num.max() - cars_num.min())\n",
    "cars_num['price'] = price_col"
   ]
  },
  {
   "cell_type": "code",
   "execution_count": 13,
   "metadata": {
    "collapsed": false
   },
   "outputs": [
    {
     "data": {
      "text/plain": [
       "wheel_base           0\n",
       "length               0\n",
       "width                0\n",
       "height               0\n",
       "curb_weight          0\n",
       "bore                 0\n",
       "stroke               0\n",
       "compression_ratio    0\n",
       "horsepower           0\n",
       "peak_rpm             0\n",
       "city_mpg             0\n",
       "highway_mpg          0\n",
       "price                0\n",
       "dtype: int64"
      ]
     },
     "execution_count": 13,
     "metadata": {},
     "output_type": "execute_result"
    }
   ],
   "source": [
    "# verifying no more missing values\n",
    "cars_num.isna().sum()"
   ]
  },
  {
   "cell_type": "markdown",
   "metadata": {},
   "source": [
    "## Univariate Model\n",
    "\n",
    "We will start with k-nearest neighbors models."
   ]
  },
  {
   "cell_type": "code",
   "execution_count": 14,
   "metadata": {
    "collapsed": false
   },
   "outputs": [],
   "source": [
    "# import necessary modules\n",
    "from sklearn.neighbors import KNeighborsRegressor\n",
    "from sklearn.metrics import mean_squared_error\n",
    "import numpy as np\n",
    "\n",
    "def knn_train_test(features, target, df):\n",
    "    np.random.seed(1) # so that results could be reproduced\n",
    "    \n",
    "    # randomize order of rows in data frame.\n",
    "    shuffled_index = np.random.permutation(df.index)\n",
    "    rand_df = df.reindex(shuffled_index) # we need to reindex our data or will run into issues later\n",
    "    \n",
    "    # splitting the data set\n",
    "    cut_off = int(0.8 * len(rand_df))\n",
    "    train = rand_df.iloc[0:cut_off]\n",
    "    test = rand_df.iloc[cut_off:]\n",
    "    \n",
    "    # instantiate the KNeighborsRegressor class\n",
    "    knn = KNeighborsRegressor()\n",
    "    \n",
    "    # fit model\n",
    "    knn.fit(train[[features]], train[target])\n",
    "    \n",
    "    # predict test set\n",
    "    predictions = knn.predict(test[[features]])\n",
    "    \n",
    "    # calculate and return RMSE of model\n",
    "    mse = mean_squared_error(test[target], predictions)\n",
    "    rmse = np.sqrt(mse)\n",
    "    \n",
    "    return rmse"
   ]
  },
  {
   "cell_type": "code",
   "execution_count": 15,
   "metadata": {
    "collapsed": false
   },
   "outputs": [
    {
     "data": {
      "text/plain": [
       "[('curb_weight', 3542.232503971912),\n",
       " ('city_mpg', 4004.261065171548),\n",
       " ('width', 4289.527857923577),\n",
       " ('highway_mpg', 4425.000531789963),\n",
       " ('wheel_base', 4692.348776153917),\n",
       " ('horsepower', 5037.249086458241),\n",
       " ('length', 5776.389428041555),\n",
       " ('compression_ratio', 5823.942730470903),\n",
       " ('peak_rpm', 7039.66106466539),\n",
       " ('height', 7114.46647188053),\n",
       " ('stroke', 8509.786245459673),\n",
       " ('bore', 8570.096663996499)]"
      ]
     },
     "execution_count": 15,
     "metadata": {},
     "output_type": "execute_result"
    }
   ],
   "source": [
    "# train and test univariate models using different numeric columns\n",
    "results = {}\n",
    "\n",
    "for feat in cars_num.columns.drop('price'):\n",
    "    rmse = knn_train_test(features=feat, target='price', df=cars_num)\n",
    "    results[feat] = rmse\n",
    "    \n",
    "# list out the results in order of descent\n",
    "sorted(results.items(), key=lambda kv: kv[1])"
   ]
  },
  {
   "cell_type": "markdown",
   "metadata": {},
   "source": [
    "We find that the model trained on 'curb_weight' offers the lowest RMSE, hence it is the best univariate model."
   ]
  },
  {
   "cell_type": "code",
   "execution_count": 16,
   "metadata": {
    "collapsed": true
   },
   "outputs": [],
   "source": [
    "# modify univariate model to tune hyperparameter\n",
    "\n",
    "def knn_train_test(features, target, df):\n",
    "    np.random.seed(1)\n",
    "    \n",
    "    # randomize order of rows in data frame.\n",
    "    shuffled_index = np.random.permutation(df.index)\n",
    "    rand_df = df.reindex(shuffled_index) # we need to reindex our data or will run into issues later\n",
    "    \n",
    "    # splitting the data set\n",
    "    cut_off = int(0.8 * len(rand_df))\n",
    "    train = rand_df.iloc[0:cut_off]\n",
    "    test = rand_df.iloc[cut_off:]\n",
    "    \n",
    "    # tuning hyperparameter\n",
    "    result_uni_k = {}\n",
    "    for i in range(1,10,2):\n",
    "        \n",
    "        # instantiate the KNeighborsRegressor class, allow neibors count be specified\n",
    "        knn = KNeighborsRegressor(n_neighbors=i)\n",
    "        \n",
    "        # fit model\n",
    "        knn.fit(train[[features]], train[target])\n",
    "       \n",
    "        # predict test set\n",
    "        predictions = knn.predict(test[[features]])\n",
    "        \n",
    "        # calculate and return RMSE of model\n",
    "        mse = mean_squared_error(test[target], predictions)\n",
    "        rmse = np.sqrt(mse)\n",
    "        result_uni_k[i] = rmse\n",
    "        \n",
    "    return result_uni_k"
   ]
  },
  {
   "cell_type": "code",
   "execution_count": 17,
   "metadata": {
    "collapsed": false
   },
   "outputs": [
    {
     "data": {
      "text/plain": [
       "{'bore': {1: 11325.623045371662,\n",
       "  3: 11020.816129115008,\n",
       "  5: 8570.096663996499,\n",
       "  7: 8365.797896227094,\n",
       "  9: 8775.94193557989},\n",
       " 'city_mpg': {1: 4974.416639409995,\n",
       "  3: 3928.700182242369,\n",
       "  5: 4004.261065171548,\n",
       "  7: 4081.310648036243,\n",
       "  9: 4339.190601157172},\n",
       " 'compression_ratio': {1: 7799.828345515829,\n",
       "  3: 6163.730431482084,\n",
       "  5: 5823.942730470903,\n",
       "  7: 6157.7248722066115,\n",
       "  9: 6407.497099828602},\n",
       " 'curb_weight': {1: 4185.38209637817,\n",
       "  3: 3865.4854755980678,\n",
       "  5: 3542.232503971912,\n",
       "  7: 3648.8946863476,\n",
       "  9: 3902.9189076894745},\n",
       " 'height': {1: 6148.6606790699925,\n",
       "  3: 7574.277044037761,\n",
       "  5: 7114.46647188053,\n",
       "  7: 7059.4162099980385,\n",
       "  9: 7112.208123377993},\n",
       " 'highway_mpg': {1: 6099.731359538433,\n",
       "  3: 4905.003872215584,\n",
       "  5: 4425.000531789963,\n",
       "  7: 4250.7808647564025,\n",
       "  9: 4668.313503523361},\n",
       " 'horsepower': {1: 3403.51650646153,\n",
       "  3: 4619.276254917126,\n",
       "  5: 5037.249086458241,\n",
       "  7: 5031.196660115028,\n",
       "  9: 5062.637279256621},\n",
       " 'length': {1: 5859.903974073794,\n",
       "  3: 5888.568349894745,\n",
       "  5: 5776.389428041555,\n",
       "  7: 5194.750417819372,\n",
       "  9: 4619.328098435929},\n",
       " 'peak_rpm': {1: 8278.654307696479,\n",
       "  3: 8507.045567803369,\n",
       "  5: 7039.66106466539,\n",
       "  7: 7384.673196931962,\n",
       "  9: 7648.80689085942},\n",
       " 'stroke': {1: 9909.988887788802,\n",
       "  3: 6976.582326565751,\n",
       "  5: 8509.786245459673,\n",
       "  7: 7506.013090561423,\n",
       "  9: 7286.192069843549},\n",
       " 'wheel_base': {1: 2952.700719101983,\n",
       "  3: 3663.3229010703894,\n",
       "  5: 4692.348776153917,\n",
       "  7: 4842.606524612033,\n",
       "  9: 4967.944752918635},\n",
       " 'width': {1: 3016.8642054534607,\n",
       "  3: 4497.613775937945,\n",
       "  5: 4289.527857923577,\n",
       "  7: 4191.397564186104,\n",
       "  9: 4013.061555643361}}"
      ]
     },
     "execution_count": 17,
     "metadata": {},
     "output_type": "execute_result"
    }
   ],
   "source": [
    "# find rmse for univariate models with different k values\n",
    "results_uni_k = {}\n",
    "\n",
    "for feat in cars_num.columns.drop('price'):\n",
    "    k_rmse = knn_train_test(features=feat, target='price', df=cars_num)\n",
    "    results_uni_k[feat] = k_rmse\n",
    "    \n",
    "results_uni_k"
   ]
  },
  {
   "cell_type": "code",
   "execution_count": 18,
   "metadata": {
    "collapsed": false
   },
   "outputs": [
    {
     "data": {
      "image/png": "[encoded data removed]",
      "text/plain": [
       "<matplotlib.figure.Figure at 0x7f2d17c21a58>"
      ]
     },
     "metadata": {},
     "output_type": "display_data"
    }
   ],
   "source": [
    "# plotting line plots\n",
    "import matplotlib.pyplot as plt\n",
    "%matplotlib inline\n",
    "\n",
    "for k,v in results_uni_k.items():\n",
    "    x = []\n",
    "    y = []\n",
    "    for i in range(1,10,2):\n",
    "        x.append(i)\n",
    "        y.append(v[i])\n",
    "    plt.plot(x,y)\n",
    "    plt.xlabel('k value')\n",
    "    plt.ylabel('RMSE')\n",
    "\n",
    "## results_uni_k.items() kept returning keys as 1,3,9,5,7 and messing up the plot\n",
    "# for k,v in results_uni_k.items():\n",
    "#     x = list(v.keys())\n",
    "#     y = list(v.values())\n",
    "#     plt.plot(x,y)"
   ]
  },
  {
   "cell_type": "markdown",
   "metadata": {},
   "source": [
    "## Multivariate Model\n",
    "\n",
    "We will now modify our model to take in multiple features."
   ]
  },
  {
   "cell_type": "code",
   "execution_count": 19,
   "metadata": {
    "collapsed": true
   },
   "outputs": [],
   "source": [
    "# modifying model to take in multiple features\n",
    "def knn_train_test(features, target, df):\n",
    "    \n",
    "    # randomize order of rows in data frame.\n",
    "    shuffled_index = np.random.permutation(df.index)\n",
    "    rand_df = df.reindex(shuffled_index) # we need to reindex our data or will run into issues later\n",
    "    \n",
    "    # splitting the data set\n",
    "    cut_off = round(0.8 * len(rand_df))\n",
    "    train = rand_df.iloc[0:cut_off]\n",
    "    test = rand_df.iloc[cut_off:]\n",
    "    \n",
    "    # instantiate the KNeighborsRegressor class\n",
    "    knn = KNeighborsRegressor()\n",
    "    \n",
    "    # fit model\n",
    "    knn.fit(train[features], train[target])\n",
    "    \n",
    "    # predict test set\n",
    "    predictions = knn.predict(test[features])\n",
    "    \n",
    "    # calculate and return RMSE of model\n",
    "    mse = mean_squared_error(test[target], predictions)\n",
    "    rmse = np.sqrt(mse)\n",
    "    return rmse"
   ]
  },
  {
   "cell_type": "code",
   "execution_count": 20,
   "metadata": {
    "collapsed": false
   },
   "outputs": [],
   "source": [
    "# save ranked features in ascending order of RMSE from univariate model with k as default\n",
    "sorted_results = sorted(results.items(), key=lambda kv: kv[1])\n",
    "\n",
    "ranked_features = []\n",
    "\n",
    "for entry in sorted_results:\n",
    "    ranked_features.append(entry[0])"
   ]
  },
  {
   "cell_type": "code",
   "execution_count": 21,
   "metadata": {
    "collapsed": false
   },
   "outputs": [
    {
     "data": {
      "text/plain": [
       "{'best_2_features': 3826.7704409854537,\n",
       " 'best_3_features': 2746.850693066516,\n",
       " 'best_4_features': 3479.123133635831,\n",
       " 'best_5_features': 4794.261572964078}"
      ]
     },
     "execution_count": 21,
     "metadata": {},
     "output_type": "execute_result"
    }
   ],
   "source": [
    "# train and test multivariate models using ranked numeric columns above\n",
    "results_multi = {}\n",
    "\n",
    "for i in range(2,6):\n",
    "    rmse = knn_train_test(features=ranked_features[0:i], target='price', df=cars_num)\n",
    "    results_multi['best_{}_features'.format(i)] = rmse\n",
    "    \n",
    "results_multi"
   ]
  },
  {
   "cell_type": "markdown",
   "metadata": {},
   "source": [
    "We find that the more features we allow our model to be fitted around, the smaller our RMSE will get. Hence, the three models with the lowest RMSE are the best_5, best_4 and best_3 in order."
   ]
  },
  {
   "cell_type": "markdown",
   "metadata": {},
   "source": [
    "## Hyperparameter Tuning\n",
    "\n",
    "We will now optimise the top 3 best performing multivariate models from the last step by varying the hyperparameter value."
   ]
  },
  {
   "cell_type": "code",
   "execution_count": 22,
   "metadata": {
    "collapsed": true
   },
   "outputs": [],
   "source": [
    "# modify multivariate model to tune hyperparameter\n",
    "\n",
    "def knn_train_test(features, target, df):\n",
    "    np.random.seed(1)\n",
    "    \n",
    "    # randomize order of rows in data frame.\n",
    "    shuffled_index = np.random.permutation(df.index)\n",
    "    rand_df = df.reindex(shuffled_index) # we need to reindex our data or will run into issues later\n",
    "    \n",
    "    # splitting the data set\n",
    "    cut_off = int(0.8 * len(rand_df))\n",
    "    train = rand_df.iloc[0:cut_off]\n",
    "    test = rand_df.iloc[cut_off:]\n",
    "    \n",
    "    # tuning hyperparameter\n",
    "    result_multi_k = {}\n",
    "    for i in range(1,26):\n",
    "        \n",
    "        # instantiate the KNeighborsRegressor class, allow neibors count be specified\n",
    "        knn = KNeighborsRegressor(n_neighbors=i)\n",
    "        \n",
    "        # fit model\n",
    "        knn.fit(train[features], train[target])\n",
    "       \n",
    "        # predict test set\n",
    "        predictions = knn.predict(test[features])\n",
    "        \n",
    "        # calculate and return RMSE of model\n",
    "        mse = mean_squared_error(test[target], predictions)\n",
    "        rmse = np.sqrt(mse)\n",
    "        result_multi_k[i] = rmse\n",
    "        \n",
    "    return result_multi_k"
   ]
  },
  {
   "cell_type": "code",
   "execution_count": 23,
   "metadata": {
    "collapsed": false,
    "scrolled": true
   },
   "outputs": [
    {
     "data": {
      "text/plain": [
       "{'best_3_features': {1: 2440.7687613416933,\n",
       "  2: 2151.763056193688,\n",
       "  3: 2306.280139380473,\n",
       "  4: 2396.4457475679656,\n",
       "  5: 2494.3827554590953,\n",
       "  6: 2651.891506771278,\n",
       "  7: 2688.4519714859252,\n",
       "  8: 2639.733555619702,\n",
       "  9: 2724.0736646284354,\n",
       "  10: 2768.231887624037,\n",
       "  11: 2949.9146750034047,\n",
       "  12: 3093.474283599701,\n",
       "  13: 3037.8980250959376,\n",
       "  14: 3320.45153150459,\n",
       "  15: 3440.9790406763573,\n",
       "  16: 3553.2083723888654,\n",
       "  17: 3676.2375923874038,\n",
       "  18: 3795.1541225504234,\n",
       "  19: 3830.777406930596,\n",
       "  20: 3838.2141839519904,\n",
       "  21: 3968.817692741089,\n",
       "  22: 4041.2503019141523,\n",
       "  23: 4136.901636349504,\n",
       "  24: 4201.125083254574,\n",
       "  25: 4205.913823080602},\n",
       " 'best_4_features': {1: 2341.188295320635,\n",
       "  2: 2295.7616489480106,\n",
       "  3: 2626.9177880247134,\n",
       "  4: 2649.2663066242762,\n",
       "  5: 2634.9624178372324,\n",
       "  6: 2615.9331857387574,\n",
       "  7: 2610.7740714899783,\n",
       "  8: 2641.6536694606657,\n",
       "  9: 2709.1509915750476,\n",
       "  10: 2834.7206435684575,\n",
       "  11: 2811.5463074944455,\n",
       "  12: 3106.8741993875105,\n",
       "  13: 3197.7940874210167,\n",
       "  14: 3359.967480998862,\n",
       "  15: 3510.1429940838575,\n",
       "  16: 3619.4399616981705,\n",
       "  17: 3692.176335006749,\n",
       "  18: 3756.0565362462085,\n",
       "  19: 3853.5420017948845,\n",
       "  20: 3938.702560295155,\n",
       "  21: 4022.70242555253,\n",
       "  22: 4085.089803083181,\n",
       "  23: 4144.347380520756,\n",
       "  24: 4201.54334738026,\n",
       "  25: 4207.33141911627},\n",
       " 'best_5_features': {1: 2633.1827120657526,\n",
       "  2: 2923.9800306281495,\n",
       "  3: 3132.1270870497724,\n",
       "  4: 3268.6250971799495,\n",
       "  5: 2869.320817741012,\n",
       "  6: 2684.571394686819,\n",
       "  7: 2599.2481793893276,\n",
       "  8: 2771.7430017791303,\n",
       "  9: 2891.5634904756926,\n",
       "  10: 3078.0598692255135,\n",
       "  11: 3288.2540794086817,\n",
       "  12: 3381.533387505291,\n",
       "  13: 3474.597960984093,\n",
       "  14: 3542.9444740276144,\n",
       "  15: 3518.7664538511176,\n",
       "  16: 3616.586137679263,\n",
       "  17: 3595.783339300608,\n",
       "  18: 3697.7114048074386,\n",
       "  19: 3801.869938977816,\n",
       "  20: 3949.5644986689786,\n",
       "  21: 3995.3975864959066,\n",
       "  22: 4099.431586167945,\n",
       "  23: 4164.34913585527,\n",
       "  24: 4152.916476185432,\n",
       "  25: 4115.44442664933}}"
      ]
     },
     "execution_count": 23,
     "metadata": {},
     "output_type": "execute_result"
    }
   ],
   "source": [
    "# train and test multivariate models with different k values using ranked numeric columns above\n",
    "results_multi_k = {}\n",
    "\n",
    "for i in range(5,2,-1):\n",
    "    rmse = knn_train_test(features=ranked_features[0:i], target='price', df=cars_num)\n",
    "    results_multi_k['best_{}_features'.format(i)] = rmse\n",
    "    \n",
    "results_multi_k"
   ]
  },
  {
   "cell_type": "code",
   "execution_count": 25,
   "metadata": {
    "collapsed": false
   },
   "outputs": [
    {
     "data": {
      "image/png": "[encoded data removed]",
      "text/plain": [
       "<matplotlib.figure.Figure at 0x7f2d131fbb38>"
      ]
     },
     "metadata": {},
     "output_type": "display_data"
    }
   ],
   "source": [
    "# plotting results\n",
    "for k,v in results_multi_k.items():\n",
    "    x = []\n",
    "    y = []\n",
    "    for i in range(1,26):\n",
    "        x.append(i)\n",
    "        y.append(v[i])\n",
    "    plt.plot(x,y)\n",
    "    plt.xlabel('k value')\n",
    "    plt.ylabel('RMSE')"
   ]
  },
  {
   "cell_type": "markdown",
   "metadata": {},
   "source": [
    "It would seem that k values over 7 will only result in a larger error.\n",
    "\n",
    "For the model using the top 3 features (blue), optimal k is around 7. For top 4 and top 5 model (green, red), the optimal k is at 2."
   ]
  }
 ],
 "metadata": {
  "kernelspec": {
   "display_name": "Python 3",
   "language": "python",
   "name": "python3"
  },
  "language_info": {
   "codemirror_mode": {
    "name": "ipython",
    "version": 3
   },
   "file_extension": ".py",
   "mimetype": "text/x-python",
   "name": "python",
   "nbconvert_exporter": "python",
   "pygments_lexer": "ipython3",
   "version": "3.4.3"
  }
 },
 "nbformat": 4,
 "nbformat_minor": 2
}
